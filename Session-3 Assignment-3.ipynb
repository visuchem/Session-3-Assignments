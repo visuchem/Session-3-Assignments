{
 "cells": [
  {
   "cell_type": "markdown",
   "metadata": {},
   "source": [
    "# Session-3 Assignment-3"
   ]
  },
  {
   "cell_type": "markdown",
   "metadata": {},
   "source": [
    "Implement a function longestWord() that takes a list of words and returns the longest one. \n",
    " "
   ]
  },
  {
   "cell_type": "code",
   "execution_count": 28,
   "metadata": {},
   "outputs": [
    {
     "name": "stdout",
     "output_type": "stream",
     "text": [
      "Enter the words :Kasmir Apple wanted by rest of world\n",
      "Longest  word is ' Kasmir ', has 6 characters \n"
     ]
    }
   ],
   "source": [
    "def longestWord(words):\n",
    "    l = len(words[0])\n",
    "    #print(l)\n",
    "    long_word = words[0]\n",
    "    for word in words:\n",
    "       # print(\"{} - {}\".format(len(word), word) )\n",
    "        if(len(word) > l):\n",
    "            l= len(word)\n",
    "            long_word = word\n",
    "    return long_word\n",
    "  \n",
    "    \n",
    "string = input(\"Enter the words :\")\n",
    "words_list = string.split()\n",
    "\n",
    "# using functions\n",
    "longest_word = longestWord(words_list)\n",
    "print(\"Longest  word is ' {} ', has {} characters \".format(longest_word,len(longest_word)))"
   ]
  },
  {
   "cell_type": "code",
   "execution_count": null,
   "metadata": {},
   "outputs": [],
   "source": []
  }
 ],
 "metadata": {
  "kernelspec": {
   "display_name": "Python 3",
   "language": "python",
   "name": "python3"
  },
  "language_info": {
   "codemirror_mode": {
    "name": "ipython",
    "version": 3
   },
   "file_extension": ".py",
   "mimetype": "text/x-python",
   "name": "python",
   "nbconvert_exporter": "python",
   "pygments_lexer": "ipython3",
   "version": "3.6.4"
  }
 },
 "nbformat": 4,
 "nbformat_minor": 2
}
