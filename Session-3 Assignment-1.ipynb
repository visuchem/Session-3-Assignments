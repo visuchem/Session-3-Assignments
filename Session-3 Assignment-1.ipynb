{
 "cells": [
  {
   "cell_type": "markdown",
   "metadata": {},
   "source": [
    "# Session-3 Assignment-1"
   ]
  },
  {
   "cell_type": "markdown",
   "metadata": {},
   "source": [
    "Problem Statement-1:\n",
    "Write a Python Program to implement your own myreduce() function which works exactly\n",
    "like Python's built-in function reduce()"
   ]
  },
  {
   "cell_type": "code",
   "execution_count": 3,
   "metadata": {},
   "outputs": [
    {
     "name": "stdout",
     "output_type": "stream",
     "text": [
      "20\n",
      "20\n"
     ]
    }
   ],
   "source": [
    "## using reduce method\n",
    "from functools import reduce\n",
    "numbers = [2,3,4,5,6]\n",
    "sum = reduce(lambda n,m: n+m, numbers )\n",
    "print(sum)\n",
    "\n",
    "## using traditional method\n",
    "def myreduce(num_list):\n",
    "    sum1 = 0\n",
    "    for num in num_list:\n",
    "        sum1 += num\n",
    "    return(sum1)\n",
    "\n",
    "print(myreduce(numbers))"
   ]
  },
  {
   "cell_type": "markdown",
   "metadata": {},
   "source": [
    "Problem Statement-2:\n",
    "Write a Python program to implement your own myfilter() function which works exactly\n",
    "like Python's built-in function filter()"
   ]
  },
  {
   "cell_type": "code",
   "execution_count": 4,
   "metadata": {},
   "outputs": [
    {
     "name": "stdout",
     "output_type": "stream",
     "text": [
      "[2, 4, 6, 8]\n",
      "[2, 4, 6, 8]\n"
     ]
    }
   ],
   "source": [
    "num = [1,2,3,4,5,6,7,8,9]\n",
    "even_num_list = list(filter(lambda x :  x%2 == 0, num))\n",
    "print(even_num_list)\n",
    "\n",
    "\n",
    "def myfilter(num_List):\n",
    "    even_Num = []\n",
    "    for n in num_List:\n",
    "        if n%2 == 0:\n",
    "            even_Num.append(n)\n",
    "    return even_Num    \n",
    "\n",
    "print(myfilter(num))"
   ]
  },
  {
   "cell_type": "code",
   "execution_count": null,
   "metadata": {},
   "outputs": [],
   "source": []
  }
 ],
 "metadata": {
  "kernelspec": {
   "display_name": "Python 3",
   "language": "python",
   "name": "python3"
  },
  "language_info": {
   "codemirror_mode": {
    "name": "ipython",
    "version": 3
   },
   "file_extension": ".py",
   "mimetype": "text/x-python",
   "name": "python",
   "nbconvert_exporter": "python",
   "pygments_lexer": "ipython3",
   "version": "3.6.4"
  }
 },
 "nbformat": 4,
 "nbformat_minor": 2
}
